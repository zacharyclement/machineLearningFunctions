{
 "cells": [
  {
   "cell_type": "code",
   "execution_count": 45,
   "metadata": {},
   "outputs": [],
   "source": [
    "import re\n",
    "import time\n",
    "import random\n",
    "time.sleep(0.5)"
   ]
  },
  {
   "cell_type": "code",
   "execution_count": 22,
   "metadata": {},
   "outputs": [
    {
     "name": "stdout",
     "output_type": "stream",
     "text": [
      "USER : hello\n",
      "BOT : I can hear you! you said: hello\n"
     ]
    }
   ],
   "source": [
    "bot_template = \"BOT : {0}\"\n",
    "user_template = \"USER : {0}\"\n",
    "\n",
    "def respond(message):\n",
    "    return \"I can hear you! you said: {}\".format(message)\n",
    "\n",
    "def send_message(message):\n",
    "    # calls respone() to get response\n",
    "    print(user_template.format(message))\n",
    "    response = respond(message)\n",
    "    print(bot_template.format(response))\n",
    "\n",
    "send_message('hello')"
   ]
  },
  {
   "cell_type": "code",
   "execution_count": 44,
   "metadata": {},
   "outputs": [
    {
     "name": "stdout",
     "output_type": "stream",
     "text": [
      "it's sunny today\n",
      "Zach\n"
     ]
    }
   ],
   "source": [
    "responses = {'What is your name?': [\"ChatBot\", 'Zach', 'mind your own business'],\n",
    "           'What is the weather today?': [\"it's sunny today\", 'its cloudy today']}\n",
    "\n",
    "questions = ['tell me more!', 'why do you think that']\n",
    "\n",
    "weather_today = \"sunny\"\n",
    "            \n",
    "def respond(message):\n",
    "    if message in responses:\n",
    "        print(random.choice(responses[message]))\n",
    "\n",
    "respond('What is the weather today?')\n",
    "respond('What is your name?')\n",
    "response"
   ]
  },
  {
   "cell_type": "code",
   "execution_count": null,
   "metadata": {},
   "outputs": [],
   "source": [
    "#regex 1) matching messages against known patterns 2) extract key phrases 3) transform sentences grammatically"
   ]
  },
  {
   "cell_type": "code",
   "execution_count": 46,
   "metadata": {},
   "outputs": [],
   "source": [
    "pattern = \"do you remember .*\""
   ]
  },
  {
   "cell_type": "code",
   "execution_count": 54,
   "metadata": {},
   "outputs": [
    {
     "name": "stdout",
     "output_type": "stream",
     "text": [
      "matches\n"
     ]
    }
   ],
   "source": [
    "message = 'do you remember would happen if bots took over the world'\n",
    "match = re.search(pattern,message)\n",
    "\n",
    "if match:\n",
    "    print('matches')"
   ]
  },
  {
   "cell_type": "code",
   "execution_count": null,
   "metadata": {},
   "outputs": [],
   "source": []
  }
 ],
 "metadata": {
  "kernelspec": {
   "display_name": "Python 3",
   "language": "python",
   "name": "python3"
  },
  "language_info": {
   "codemirror_mode": {
    "name": "ipython",
    "version": 3
   },
   "file_extension": ".py",
   "mimetype": "text/x-python",
   "name": "python",
   "nbconvert_exporter": "python",
   "pygments_lexer": "ipython3",
   "version": "3.6.4"
  }
 },
 "nbformat": 4,
 "nbformat_minor": 2
}
