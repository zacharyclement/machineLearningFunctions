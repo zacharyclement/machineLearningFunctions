{
 "cells": [
  {
   "cell_type": "code",
   "execution_count": 10,
   "metadata": {},
   "outputs": [],
   "source": [
    "import pandas as pd\n",
    "import numpy as np\n",
    "import random"
   ]
  },
  {
   "cell_type": "code",
   "execution_count": 2,
   "metadata": {},
   "outputs": [],
   "source": [
    "data_length = 100000\n",
    "data_length_test = 10\n",
    "\n",
    "#make listcomprehensions for each column\n",
    "\n",
    "idlink_va = []\n",
    "idsite = []\n",
    "idvisitor = []\n",
    "idvisit = []\n",
    "\n",
    "server_time = []\n",
    "time_spent_ref_action = []\n",
    "idaction_url_ref = []\n",
    "idaction_url = []\n",
    "idaction_name_ref = []\n",
    "idaction_name = []\n"
   ]
  },
  {
   "cell_type": "code",
   "execution_count": 4,
   "metadata": {},
   "outputs": [],
   "source": [
    "data = {'idlink_va': [idlink_va], #count from 1 - data_length\n",
    "        'idsite': [idsite], #unique_game_number, copied from visit action's associated in order to avoid\n",
    "        'idvisitor': [idvisitor], #unique_user_id, copied from visit action's associated in order to avoid\n",
    "        'idvisit': [idvisit], #unique id for each visit/session, use to join with log_visit\n",
    "        \n",
    "        'server_time': [server_time],\n",
    "        'time_spent_ref_action': [time_spent_ref_action],\n",
    "        'idaction_url_ref': [idaction_url_ref],\n",
    "        'idaction_url': [idaction_url],\n",
    "        'idaction_name_ref': [idaction_name_ref],\n",
    "        'idaction_name': [idaction_name],\n",
    "       \n",
    "        'custom_float': 0\n",
    "       }"
   ]
  },
  {
   "cell_type": "code",
   "execution_count": 8,
   "metadata": {},
   "outputs": [],
   "source": [
    "#for idlink_va, 16135 unique\n",
    "test = [x for x in range(data_length_test)]"
   ]
  },
  {
   "cell_type": "code",
   "execution_count": 9,
   "metadata": {},
   "outputs": [
    {
     "name": "stdout",
     "output_type": "stream",
     "text": [
      "[0, 1, 2, 3, 4, 5, 6, 7, 8, 9]\n"
     ]
    }
   ],
   "source": [
    "print(test)"
   ]
  },
  {
   "cell_type": "code",
   "execution_count": 13,
   "metadata": {},
   "outputs": [
    {
     "data": {
      "text/plain": [
       "[6, 8, 8, 8, 8, 6, 5, 5, 6, 9]"
      ]
     },
     "execution_count": 13,
     "metadata": {},
     "output_type": "execute_result"
    }
   ],
   "source": [
    "#for idsite\n",
    "possible = [5,6,8,9]\n",
    "test_1 = [random.choice(possible) for x in range(data_length_test)]\n",
    "test_1"
   ]
  },
  {
   "cell_type": "code",
   "execution_count": null,
   "metadata": {},
   "outputs": [],
   "source": [
    "#idvisitor"
   ]
  },
  {
   "cell_type": "code",
   "execution_count": 37,
   "metadata": {},
   "outputs": [],
   "source": [
    "#idvisit, 1734 unique\n",
    "def idvisit_function():\n",
    "    length = 10000\n",
    "    current = 1\n",
    "    the_list = []\n",
    "    for x in range(length):\n",
    "        the_list.append(current)\n",
    "        random_number = random.randint(1,100)\n",
    "        if random_number < 3:\n",
    "            current += 1\n",
    "    return the_list"
   ]
  },
  {
   "cell_type": "code",
   "execution_count": 38,
   "metadata": {
    "scrolled": true
   },
   "outputs": [
    {
     "name": "stdout",
     "output_type": "stream",
     "text": [
      "1 205\n",
      "2 18\n",
      "3 23\n",
      "4 230\n",
      "5 3\n",
      "6 50\n",
      "7 8\n",
      "8 18\n",
      "9 63\n",
      "10 37\n",
      "11 10\n",
      "12 6\n",
      "13 26\n",
      "14 126\n",
      "15 20\n",
      "16 131\n",
      "17 2\n",
      "18 7\n",
      "19 19\n",
      "20 117\n",
      "21 26\n",
      "22 2\n",
      "23 70\n",
      "24 24\n",
      "25 28\n",
      "26 180\n",
      "27 79\n",
      "28 5\n",
      "29 15\n",
      "30 42\n",
      "31 2\n",
      "32 78\n",
      "33 14\n",
      "34 67\n",
      "35 19\n",
      "36 64\n",
      "37 8\n",
      "38 75\n",
      "39 78\n",
      "40 52\n",
      "41 125\n",
      "42 7\n",
      "43 55\n",
      "44 114\n",
      "45 10\n",
      "46 1\n",
      "47 68\n",
      "48 49\n",
      "49 75\n",
      "50 24\n",
      "51 45\n",
      "52 38\n",
      "53 8\n",
      "54 32\n",
      "55 13\n",
      "56 29\n",
      "57 36\n",
      "58 12\n",
      "59 177\n",
      "60 2\n",
      "61 2\n",
      "62 1\n",
      "63 10\n",
      "64 44\n",
      "65 8\n",
      "66 98\n",
      "67 93\n",
      "68 122\n",
      "69 17\n",
      "70 49\n",
      "71 6\n",
      "72 33\n",
      "73 78\n",
      "74 6\n",
      "75 4\n",
      "76 15\n",
      "77 79\n",
      "78 22\n",
      "79 68\n",
      "80 50\n",
      "81 93\n",
      "82 44\n",
      "83 60\n",
      "84 62\n",
      "85 21\n",
      "86 34\n",
      "87 25\n",
      "88 201\n",
      "89 18\n",
      "90 52\n",
      "91 144\n",
      "92 43\n",
      "93 113\n",
      "94 16\n",
      "95 32\n",
      "96 14\n",
      "97 106\n",
      "98 8\n",
      "99 52\n",
      "100 236\n",
      "101 8\n",
      "102 42\n",
      "103 69\n",
      "104 17\n",
      "105 128\n",
      "106 107\n",
      "107 34\n",
      "108 69\n",
      "109 41\n",
      "110 22\n",
      "111 19\n",
      "112 146\n",
      "113 20\n",
      "114 47\n",
      "115 49\n",
      "116 18\n",
      "117 44\n",
      "118 59\n",
      "119 17\n",
      "120 8\n",
      "121 23\n",
      "122 23\n",
      "123 2\n",
      "124 22\n",
      "125 64\n",
      "126 2\n",
      "127 96\n",
      "128 30\n",
      "129 8\n",
      "130 74\n",
      "131 15\n",
      "132 23\n",
      "133 55\n",
      "134 8\n",
      "135 26\n",
      "136 23\n",
      "137 13\n",
      "138 4\n",
      "139 89\n",
      "140 33\n",
      "141 74\n",
      "142 114\n",
      "143 4\n",
      "144 139\n",
      "145 26\n",
      "146 34\n",
      "147 111\n",
      "148 84\n",
      "149 6\n",
      "150 217\n",
      "151 8\n",
      "152 20\n",
      "153 59\n",
      "154 5\n",
      "155 8\n",
      "156 18\n",
      "157 3\n",
      "158 6\n",
      "159 46\n",
      "160 483\n",
      "161 16\n",
      "162 22\n",
      "163 115\n",
      "164 22\n",
      "165 96\n",
      "166 108\n",
      "167 5\n",
      "168 7\n",
      "169 62\n",
      "170 27\n",
      "171 0\n",
      "172 13\n",
      "173 38\n",
      "174 65\n",
      "175 41\n",
      "176 52\n",
      "177 16\n",
      "178 17\n",
      "179 13\n",
      "180 146\n",
      "181 15\n",
      "182 55\n",
      "183 10\n",
      "184 64\n",
      "185 119\n",
      "186 48\n",
      "187 26\n",
      "188 27\n",
      "189 129\n",
      "190 104\n",
      "191 41\n",
      "192 120\n",
      "193 16\n",
      "194 18\n",
      "195 17\n",
      "196 37\n",
      "197 0\n",
      "198 68\n",
      "199 69\n",
      "200 89\n",
      "201 0\n",
      "202 25\n"
     ]
    }
   ],
   "source": [
    "unique_list = []\n",
    "for x in idvisit_function():\n",
    "    if x not in unique_list:\n",
    "        unique_list.append(x)\n",
    "unique_list\n",
    "\n",
    "for y in unique_list:\n",
    "    count_list = idvisit_function()\n",
    "    print(y, count_list.count(y))"
   ]
  },
  {
   "cell_type": "code",
   "execution_count": null,
   "metadata": {},
   "outputs": [],
   "source": [
    "#server_time\n"
   ]
  },
  {
   "cell_type": "code",
   "execution_count": null,
   "metadata": {},
   "outputs": [],
   "source": [
    "#time_spent_ref_action"
   ]
  },
  {
   "cell_type": "code",
   "execution_count": null,
   "metadata": {},
   "outputs": [],
   "source": [
    "#idaction_url_ref"
   ]
  },
  {
   "cell_type": "code",
   "execution_count": null,
   "metadata": {},
   "outputs": [],
   "source": [
    "#idaction_url"
   ]
  },
  {
   "cell_type": "code",
   "execution_count": null,
   "metadata": {},
   "outputs": [],
   "source": [
    "#idaction_name_ref"
   ]
  },
  {
   "cell_type": "code",
   "execution_count": null,
   "metadata": {},
   "outputs": [],
   "source": [
    "#idaction_name"
   ]
  }
 ],
 "metadata": {
  "kernelspec": {
   "display_name": "Python 3",
   "language": "python",
   "name": "python3"
  },
  "language_info": {
   "codemirror_mode": {
    "name": "ipython",
    "version": 3
   },
   "file_extension": ".py",
   "mimetype": "text/x-python",
   "name": "python",
   "nbconvert_exporter": "python",
   "pygments_lexer": "ipython3",
   "version": "3.6.5"
  }
 },
 "nbformat": 4,
 "nbformat_minor": 2
}
