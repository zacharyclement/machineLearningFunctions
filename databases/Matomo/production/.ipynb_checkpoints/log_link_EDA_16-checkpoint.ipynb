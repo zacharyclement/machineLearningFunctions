{
 "cells": [
  {
   "cell_type": "code",
   "execution_count": 2,
   "metadata": {},
   "outputs": [],
   "source": [
    "import tensorflow as tf\n",
    "import pymysql as db\n",
    "import pandas as pd\n",
    "import numpy as np\n",
    "import matplotlib.pyplot as plt\n",
    "import seaborn as sns"
   ]
  },
  {
   "cell_type": "code",
   "execution_count": 4,
   "metadata": {},
   "outputs": [],
   "source": [
    "#conn = db.connect(host='192.168.2.16', port=3306, user='appdev', passwd='8jJM4iuZ0x', db='strategem_matomo')"
   ]
  },
  {
   "cell_type": "code",
   "execution_count": null,
   "metadata": {},
   "outputs": [],
   "source": [
    "query = SELECT matomo_log_link_visit_action.idaction_name,\n",
    "               COUNT(matomo_log_link_visit_action.idaction_name) as id_count,\n",
    "               matomo_log_action.name,\n",
    "               matomo_log_action.type,\n",
    "        FROM matomo_log_link_visit_action\n",
    "        INNER JOIN matomo_log_action\n",
    "        ON matomo_log_link_visit_action.idaction_name = matomo_log_action.idaction\n",
    "        GROUP BY idaction_name;"
   ]
  },
  {
   "cell_type": "code",
   "execution_count": 5,
   "metadata": {},
   "outputs": [
    {
     "name": "stdout",
     "output_type": "stream",
     "text": [
      "61\n",
      "61\n"
     ]
    }
   ],
   "source": [
    "actions = [4,1,143,145, 134, 59, 36, 103, 46, 19, 91, 8, 133, 123, 106, 54, 29, 42,\n",
    "102, 70, 92, 100, 119, 129, 130, 64, 31, 44, 120, 112, 126, 60, 22, 25, 74,\n",
    "16, 62, 111, 72, 40, 49, 51, 6, 95, 76, 78, 93, 10, 66, 117, 80, 121, 124,\n",
    "53, 127, 97, 131, 68, 135, 140, 113]\n",
    "\n",
    "proba = [0.2237, 0.1508, 0.0567, 0.0567, 0.0405, 0.0385, 0.0385, 0.0334, 0.0263, 0.0253, 0.0243,\n",
    "0.0243, 0.0223, 0.0192, 0.0182, 0.0152, 0.0152, 0.0142, 0.0111, 0.0111, 0.0101, 0.0101, \n",
    "0.0091, 0.0091 , 0.0091, 0.0091, 0.0091, 0.0071, 0.0071, 0.0071, 0.0061, 0.0051, 0.0051,\n",
    "0.0051, 0.0051, 0.0040, 0.0040, 0.0040, 0.0040, 0.0040, 0.0030, 0.0030, 0.0030, 0.0030,\n",
    "0.0020, 0.0020, 0.0020, 0.0020, 0.0020, 0.0020, 0.0010, 0.0010, 0.0010, 0.0010,\n",
    "0.0010, 0.0010, 0.0010, 0.0010, 0.0010, 0.0010, 0.001]\n",
    "\n",
    "print(len(actions))\n",
    "print(len(proba))\n"
   ]
  },
  {
   "cell_type": "code",
   "execution_count": 6,
   "metadata": {},
   "outputs": [
    {
     "name": "stdout",
     "output_type": "stream",
     "text": [
      "1.0339999999999983\n"
     ]
    }
   ],
   "source": [
    "print(sum(proba))"
   ]
  },
  {
   "cell_type": "code",
   "execution_count": 9,
   "metadata": {},
   "outputs": [
    {
     "name": "stdout",
     "output_type": "stream",
     "text": [
      "41\n"
     ]
    }
   ],
   "source": [
    "list_ = []\n",
    "for x in proba:\n",
    "    list_.append(x)\n",
    "    if sum(list_) > 1:\n",
    "        break\n",
    "print(len(list_))"
   ]
  },
  {
   "cell_type": "code",
   "execution_count": 12,
   "metadata": {},
   "outputs": [
    {
     "name": "stdout",
     "output_type": "stream",
     "text": [
      "0.001000000000000223\n"
     ]
    }
   ],
   "source": [
    "proba2 = [0.2237, 0.1508, 0.0567, 0.0567, 0.0405, 0.0385, 0.0385, 0.0334, 0.0263, 0.0253, 0.0243,\n",
    "             0.0243, 0.0223, 0.0192, 0.0182, 0.0152, 0.0152, 0.0142, 0.0111, 0.0111, 0.0101, 0.0101, \n",
    "             0.0091, 0.0091 , 0.0091, 0.0091, 0.0091, 0.0071, 0.0071, 0.0071, 0.0061, 0.0051, 0.0051,\n",
    "             0.0051, 0.0051, 0.0040, 0.0040, 0.0040, 0.0040, 0.0040,]\n",
    "print(1- sum(proba2))"
   ]
  },
  {
   "cell_type": "code",
   "execution_count": null,
   "metadata": {},
   "outputs": [],
   "source": []
  }
 ],
 "metadata": {
  "kernelspec": {
   "display_name": "Python 3",
   "language": "python",
   "name": "python3"
  },
  "language_info": {
   "codemirror_mode": {
    "name": "ipython",
    "version": 3
   },
   "file_extension": ".py",
   "mimetype": "text/x-python",
   "name": "python",
   "nbconvert_exporter": "python",
   "pygments_lexer": "ipython3",
   "version": "3.6.5"
  }
 },
 "nbformat": 4,
 "nbformat_minor": 2
}
