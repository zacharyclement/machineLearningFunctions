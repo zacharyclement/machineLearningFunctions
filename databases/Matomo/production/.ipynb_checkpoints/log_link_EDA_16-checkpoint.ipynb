{
 "cells": [
  {
   "cell_type": "code",
   "execution_count": 2,
   "metadata": {},
   "outputs": [],
   "source": [
    "import tensorflow as tf\n",
    "import pymysql as db\n",
    "import pandas as pd\n",
    "import numpy as np\n",
    "import matplotlib.pyplot as plt\n",
    "import seaborn as sns"
   ]
  },
  {
   "cell_type": "code",
   "execution_count": 5,
   "metadata": {},
   "outputs": [],
   "source": [
    "#conn = db.connect(host='192.168.2.16', port=3306, user='appdev', passwd='8jJM4iuZ0x', db='strategem_matomo')"
   ]
  },
  {
   "cell_type": "code",
   "execution_count": null,
   "metadata": {},
   "outputs": [],
   "source": [
    "query = SELECT matomo_log_link_visit_action.idaction_name,\n",
    "               COUNT(matomo_log_link_visit_action.idaction_name) as id_count,\n",
    "               matomo_log_action.name,\n",
    "               matomo_log_action.type,\n",
    "        FROM matomo_log_link_visit_action\n",
    "        INNER JOIN matomo_log_action\n",
    "        ON matomo_log_link_visit_action.idaction_name = matomo_log_action.idaction\n",
    "        GROUP BY idaction_name;"
   ]
  }
 ],
 "metadata": {
  "kernelspec": {
   "display_name": "Python 3",
   "language": "python",
   "name": "python3"
  },
  "language_info": {
   "codemirror_mode": {
    "name": "ipython",
    "version": 3
   },
   "file_extension": ".py",
   "mimetype": "text/x-python",
   "name": "python",
   "nbconvert_exporter": "python",
   "pygments_lexer": "ipython3",
   "version": "3.6.5"
  }
 },
 "nbformat": 4,
 "nbformat_minor": 2
}
